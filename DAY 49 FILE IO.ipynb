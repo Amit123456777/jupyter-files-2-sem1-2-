{
 "cells": [
  {
   "cell_type": "code",
   "execution_count": 1,
   "id": "43e43010-e819-4356-bd15-42560e5e140a",
   "metadata": {},
   "outputs": [],
   "source": [
    "# ctrl + enter = commment/uncomment\n",
    "\n",
    "# IO --> Input, Output\n",
    "\n",
    "# file handling methods in python is built in.\n",
    "\n",
    "\n",
    "# When we talk about file --> but default it is text file. but\n",
    "# file can be\n",
    "# text\n",
    "# binary. and more types...\n",
    "\n",
    "\n"
   ]
  },
  {
   "cell_type": "code",
   "execution_count": 2,
   "id": "d39a4939-ded6-4cc4-a84a-f5cf57643b49",
   "metadata": {},
   "outputs": [],
   "source": [
    "f = open('myfile.txt', 'r')\n",
    "# it shows error bcoz hmne myfile.txt name ki koi file hi ni bnaye hai."
   ]
  },
  {
   "cell_type": "code",
   "execution_count": 3,
   "id": "36aee98f-5a5b-4745-a55c-6190a6eddd0b",
   "metadata": {},
   "outputs": [],
   "source": [
    "# to hm ek file create krenge --> location --> c:drive --> user --> rahul\n",
    "# file khe bhi create kr skte hai.\n",
    "# double click - choose txt file -- myfile\n",
    "# write     Hey harry awesome man!   in the file"
   ]
  },
  {
   "cell_type": "code",
   "execution_count": 4,
   "id": "8e193585-d1a8-4172-81b9-6b7b072cb9ae",
   "metadata": {},
   "outputs": [],
   "source": [
    "# note harry ne replit me kiya hai.\n",
    "# to usne myfile bi whi bnaye hai."
   ]
  },
  {
   "cell_type": "code",
   "execution_count": 7,
   "id": "a55836d9-25e0-4f36-a5e5-484efd1cd9a2",
   "metadata": {
    "scrolled": true
   },
   "outputs": [
    {
     "name": "stdout",
     "output_type": "stream",
     "text": [
      "Hey harry awesome man!\n"
     ]
    }
   ],
   "source": [
    "f = open('myfile.txt', 'r')\n",
    "text = f.read()\n",
    "print(text)\n",
    "f.close()"
   ]
  },
  {
   "cell_type": "code",
   "execution_count": null,
   "id": "0d7b55e4-79fa-448a-9698-fd6a7c52dbdb",
   "metadata": {},
   "outputs": [],
   "source": []
  },
  {
   "cell_type": "code",
   "execution_count": null,
   "id": "dfa1b85a-2ea9-40e7-a413-df9d63f30e7e",
   "metadata": {},
   "outputs": [],
   "source": []
  },
  {
   "cell_type": "code",
   "execution_count": null,
   "id": "5c7b984c-2031-4dfc-bce9-3abd4b4f2360",
   "metadata": {},
   "outputs": [],
   "source": []
  },
  {
   "cell_type": "code",
   "execution_count": 9,
   "id": "2a8c65ba-36ad-4fee-910e-0b9061c286a5",
   "metadata": {},
   "outputs": [
    {
     "name": "stdout",
     "output_type": "stream",
     "text": [
      "Hey harry awesome man!\n"
     ]
    }
   ],
   "source": [
    "f = open('myfile.txt', 'r')\n",
    "text = f.read()\n",
    "print(text)\n",
    "f.close()"
   ]
  },
  {
   "cell_type": "code",
   "execution_count": 6,
   "id": "6c37d2b8-2a15-4099-bc15-f6f732dc3f8b",
   "metadata": {},
   "outputs": [],
   "source": [
    "f = open('myfile.txt', 'r')\n",
    "f.read()\n",
    "f.close()\n",
    "# note: agr read and close ko variable me save ni kr rhe hai to ek cell me inko run\n",
    "# ni krna hai wrna output ni ayega."
   ]
  },
  {
   "cell_type": "code",
   "execution_count": null,
   "id": "b20860ea-47b3-4e20-ac8d-f0d4e408e61e",
   "metadata": {},
   "outputs": [],
   "source": [
    "\n"
   ]
  },
  {
   "cell_type": "code",
   "execution_count": 7,
   "id": "249c55e9-a84d-45fa-a6ae-4f977c5ffbce",
   "metadata": {},
   "outputs": [
    {
     "ename": "UnsupportedOperation",
     "evalue": "not readable",
     "output_type": "error",
     "traceback": [
      "\u001b[1;31m---------------------------------------------------------------------------\u001b[0m",
      "\u001b[1;31mUnsupportedOperation\u001b[0m                      Traceback (most recent call last)",
      "Cell \u001b[1;32mIn[7], line 2\u001b[0m\n\u001b[0;32m      1\u001b[0m f \u001b[38;5;241m=\u001b[39m \u001b[38;5;28mopen\u001b[39m(\u001b[38;5;124m'\u001b[39m\u001b[38;5;124mmyfile1.txt\u001b[39m\u001b[38;5;124m'\u001b[39m, \u001b[38;5;124m'\u001b[39m\u001b[38;5;124mw\u001b[39m\u001b[38;5;124m'\u001b[39m)\n\u001b[1;32m----> 2\u001b[0m text \u001b[38;5;241m=\u001b[39m \u001b[43mf\u001b[49m\u001b[38;5;241;43m.\u001b[39;49m\u001b[43mread\u001b[49m\u001b[43m(\u001b[49m\u001b[43m)\u001b[49m\n\u001b[0;32m      3\u001b[0m \u001b[38;5;28mprint\u001b[39m(text)\n\u001b[0;32m      4\u001b[0m f\u001b[38;5;241m.\u001b[39mclose()\n",
      "\u001b[1;31mUnsupportedOperation\u001b[0m: not readable"
     ]
    }
   ],
   "source": [
    "f = open('myfile1.txt', 'w')\n",
    "text = f.read()\n",
    "print(text)\n",
    "f.close()\n",
    "\n",
    "# file ko write mode me open krke read krenge to error show hoga."
   ]
  },
  {
   "cell_type": "code",
   "execution_count": 8,
   "id": "bd92693a-ca17-4d65-a36c-b2736145b6af",
   "metadata": {},
   "outputs": [],
   "source": [
    "# note : open has two arguments 1. filename 2.modes"
   ]
  },
  {
   "cell_type": "code",
   "execution_count": 15,
   "id": "9e757b65-a160-424d-9db5-1827ca91261c",
   "metadata": {},
   "outputs": [
    {
     "name": "stdout",
     "output_type": "stream",
     "text": [
      "Hey harry awesome man!\n"
     ]
    }
   ],
   "source": [
    "# mode \n",
    "# 1. read(r)\n",
    "# r = if the file doesn't exist it shows error.\n",
    "\n",
    "# means me khunga ki me apne ghar ke niche frari ka drwaze kholunga.\n",
    "# to jo cheez exists hi krte uska drwaza kaise kholunga me\n",
    "\n",
    "# r is default\n",
    "\n",
    "\n",
    "f = open('myfile.txt') # r is default\n",
    "text = f.read()\n",
    "print(text)\n",
    "f.close()\n"
   ]
  },
  {
   "cell_type": "code",
   "execution_count": 13,
   "id": "3c14492c-fe45-4465-af80-c52061bfe622",
   "metadata": {},
   "outputs": [],
   "source": [
    "# 2.write\n",
    "# agar hmne write mode me hmne ek ese file ko khol diya jo exist ni krta.\n",
    "# then it create new file.\n"
   ]
  },
  {
   "cell_type": "code",
   "execution_count": null,
   "id": "8af4f5ef-49ba-4edf-8cc5-9c4f0818c638",
   "metadata": {},
   "outputs": [],
   "source": []
  },
  {
   "cell_type": "code",
   "execution_count": 16,
   "id": "43d77006-b3cc-4edc-b6b2-e9edb2f5d258",
   "metadata": {},
   "outputs": [
    {
     "name": "stdout",
     "output_type": "stream",
     "text": [
      "Hey harry awesome man!\n"
     ]
    }
   ],
   "source": [
    "# text(t) - we want to open file as a text file.\n",
    "f = open('myfile.txt', 'rt')\n",
    "text = f.read()\n",
    "print(text)\n",
    "f.close()"
   ]
  },
  {
   "cell_type": "code",
   "execution_count": 17,
   "id": "6e778287-be63-4ad0-ac06-68a8fceca9e3",
   "metadata": {},
   "outputs": [
    {
     "name": "stdout",
     "output_type": "stream",
     "text": [
      "b'Hey harry awesome man!'\n"
     ]
    }
   ],
   "source": [
    "# binary file\n",
    "f = open('myfile.txt', 'rb')\n",
    "text = f.read()\n",
    "print(text)\n",
    "f.close()\n",
    "# jpeg, image, pdf, exe\n",
    "\n",
    "# output is in the form of bytes."
   ]
  },
  {
   "cell_type": "code",
   "execution_count": 18,
   "id": "788b2e5d-3b9b-472a-a31b-d7d2c1f2668e",
   "metadata": {},
   "outputs": [],
   "source": [
    "# write mode me open krke. file write krenge to.\n",
    "# file ke andr jo content pehle se the wo delete ho jayenge"
   ]
  },
  {
   "cell_type": "code",
   "execution_count": 21,
   "id": "1ca874e1-a042-468d-9698-9f94f2b818b1",
   "metadata": {},
   "outputs": [],
   "source": [
    "f = open('myfile.txt', 'w')\n",
    "f.write('Hello, world!')\n",
    "f.close()"
   ]
  },
  {
   "cell_type": "code",
   "execution_count": 25,
   "id": "dc357619-87fe-4d04-b6cf-fa02b987aa54",
   "metadata": {},
   "outputs": [
    {
     "data": {
      "text/plain": [
       "'Hello, world!'"
      ]
     },
     "execution_count": 25,
     "metadata": {},
     "output_type": "execute_result"
    }
   ],
   "source": [
    "f = open('myfile.txt')\n",
    "f.read()\n",
    "# f.close()\n",
    "\n",
    "# output: previous content delete and hello world add"
   ]
  },
  {
   "cell_type": "code",
   "execution_count": null,
   "id": "a23917c0-0e56-49b0-a23c-dc47de05c935",
   "metadata": {},
   "outputs": [],
   "source": [
   ]
  },
  {
   "cell_type": "code",
   "execution_count": null,
   "id": "6bbabbf9-1efc-410d-a79a-15204f0badb2",
   "metadata": {},
   "outputs": [],
   "source": [
    "# hm agr append mode me open krke write krenge .\n",
    "# to content delete ni hoga, it will append"
   ]
  },
  {
   "cell_type": "code",
   "execution_count": 26,
   "id": "d3ef8257-8312-4319-8f15-9f8e80af6f49",
   "metadata": {},
   "outputs": [],
   "source": [
    "f = open('myfile.txt', 'a')\n",
    "f.write('Hello, world!')\n",
    "# f.close()"
   ]
  },
  {
   "cell_type": "code",
   "execution_count": 29,
   "id": "ddc6c6d8-4dfa-4a0a-b8ca-7115f32a025b",
   "metadata": {},
   "outputs": [
    {
     "data": {
      "text/plain": [
       "'Hello, world!Hello, world!'"
      ]
     },
     "execution_count": 29,
     "metadata": {},
     "output_type": "execute_result"
    }
   ],
   "source": [
    "f = open('myfile.txt')\n",
    "f.read()\n"
   ]
  },
  {
   "cell_type": "code",
   "execution_count": 30,
   "id": "c51dad71-b258-4ef0-9ce2-e5cb39755509",
   "metadata": {},
   "outputs": [],
   "source": [
    "f.close()"
   ]
  },
  {
   "cell_type": "code",
   "execution_count": 32,
   "id": "e30c5aa3-c3a9-4c85-8d84-c5dbacd56232",
   "metadata": {},
   "outputs": [],
   "source": [
    "# note: after read file. it's mandatory to close it.\n",
    "# if not close the following problems occur:\n",
    "# file delete ni hoga. it say file is open somewhere.\n",
    "\n",
    "# jb hm fridge se saman nikalte hai to fridge close bi krte hai."
   ]
  },
  {
   "cell_type": "code",
   "execution_count": 34,
   "id": "100d6474-8580-47af-99fa-686e4c9aa922",
   "metadata": {},
   "outputs": [],
   "source": [
    "# it's boring method to read and then remember to close.\n",
    "# use 'with' statement.\n"
   ]
  },
  {
   "cell_type": "code",
   "execution_count": null,
   "id": "de7b68d9-a378-4cef-be06-872670c0971b",
   "metadata": {},
   "outputs": [],
   "source": []
  },
  {
   "cell_type": "code",
   "execution_count": 35,
   "id": "f54f5ce9-1b30-40f7-a919-91c3deb66c3d",
   "metadata": {},
   "outputs": [],
   "source": [
    "# why file handling is importand \n",
    "# bcoz agr hm koi game bna rhe hai, to hm uska high score ye sb save kr skte hai.\n",
    "# hm file ke andr koi bhi data apne file ka store kr skte hai,\n",
    "# we can use file handling like a temprory database\n",
    "# ex: use to store 50 student marks"
   ]
  },
  {
   "cell_type": "code",
   "execution_count": null,
   "id": "f727c465-3677-4a49-9211-1bf1c2ca641c",
   "metadata": {},
   "outputs": [],
   "source": []
  },
  {
   "cell_type": "code",
   "execution_count": null,
   "id": "72fe6f16-2597-42e1-b2ef-da68ef24f37e",
   "metadata": {},
   "outputs": [],
   "source": []
  }
 ],
 "metadata": {
  "kernelspec": {
   "display_name": "Python 3 (ipykernel)",
   "language": "python",
   "name": "python3"
  },
  "language_info": {
   "codemirror_mode": {
    "name": "ipython",
    "version": 3
   },
   "file_extension": ".py",
   "mimetype": "text/x-python",
   "name": "python",
   "nbconvert_exporter": "python",
   "pygments_lexer": "ipython3",
   "version": "3.11.4"
  }
 },
 "nbformat": 4,
 "nbformat_minor": 5
}
